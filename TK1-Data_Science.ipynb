{
  "cells": [
    {
      "cell_type": "code",
      "execution_count": 3,
      "id": "94319508",
      "metadata": {
        "id": "94319508",
        "outputId": "71cb7ea9-a578-4c63-add3-f1c4069a45f1",
        "colab": {
          "base_uri": "https://localhost:8080/",
          "height": 363
        }
      },
      "outputs": [
        {
          "output_type": "execute_result",
          "data": {
            "text/plain": [
              "   No  Ukuran  Lantai  tarifInternet tipeBangunan  hargaSewa\n",
              "0   1     510       4              8            C        320\n",
              "1   2     550       7             50            A        385\n",
              "2   3     620       9              7            C        400\n",
              "3   4     630       5             24            B        392\n",
              "4   5     655       8            100            A        380\n",
              "5   6     700       4              8            C        480\n",
              "6   7     780      10              7            C        480\n",
              "7   8     800      12             50            A        600\n",
              "8   9     920      14              8            C        570\n",
              "9  10    1000       9             24            B        620"
            ],
            "text/html": [
              "\n",
              "  <div id=\"df-e7719d23-761e-45e6-9a43-6ae96cec315a\">\n",
              "    <div class=\"colab-df-container\">\n",
              "      <div>\n",
              "<style scoped>\n",
              "    .dataframe tbody tr th:only-of-type {\n",
              "        vertical-align: middle;\n",
              "    }\n",
              "\n",
              "    .dataframe tbody tr th {\n",
              "        vertical-align: top;\n",
              "    }\n",
              "\n",
              "    .dataframe thead th {\n",
              "        text-align: right;\n",
              "    }\n",
              "</style>\n",
              "<table border=\"1\" class=\"dataframe\">\n",
              "  <thead>\n",
              "    <tr style=\"text-align: right;\">\n",
              "      <th></th>\n",
              "      <th>No</th>\n",
              "      <th>Ukuran</th>\n",
              "      <th>Lantai</th>\n",
              "      <th>tarifInternet</th>\n",
              "      <th>tipeBangunan</th>\n",
              "      <th>hargaSewa</th>\n",
              "    </tr>\n",
              "  </thead>\n",
              "  <tbody>\n",
              "    <tr>\n",
              "      <th>0</th>\n",
              "      <td>1</td>\n",
              "      <td>510</td>\n",
              "      <td>4</td>\n",
              "      <td>8</td>\n",
              "      <td>C</td>\n",
              "      <td>320</td>\n",
              "    </tr>\n",
              "    <tr>\n",
              "      <th>1</th>\n",
              "      <td>2</td>\n",
              "      <td>550</td>\n",
              "      <td>7</td>\n",
              "      <td>50</td>\n",
              "      <td>A</td>\n",
              "      <td>385</td>\n",
              "    </tr>\n",
              "    <tr>\n",
              "      <th>2</th>\n",
              "      <td>3</td>\n",
              "      <td>620</td>\n",
              "      <td>9</td>\n",
              "      <td>7</td>\n",
              "      <td>C</td>\n",
              "      <td>400</td>\n",
              "    </tr>\n",
              "    <tr>\n",
              "      <th>3</th>\n",
              "      <td>4</td>\n",
              "      <td>630</td>\n",
              "      <td>5</td>\n",
              "      <td>24</td>\n",
              "      <td>B</td>\n",
              "      <td>392</td>\n",
              "    </tr>\n",
              "    <tr>\n",
              "      <th>4</th>\n",
              "      <td>5</td>\n",
              "      <td>655</td>\n",
              "      <td>8</td>\n",
              "      <td>100</td>\n",
              "      <td>A</td>\n",
              "      <td>380</td>\n",
              "    </tr>\n",
              "    <tr>\n",
              "      <th>5</th>\n",
              "      <td>6</td>\n",
              "      <td>700</td>\n",
              "      <td>4</td>\n",
              "      <td>8</td>\n",
              "      <td>C</td>\n",
              "      <td>480</td>\n",
              "    </tr>\n",
              "    <tr>\n",
              "      <th>6</th>\n",
              "      <td>7</td>\n",
              "      <td>780</td>\n",
              "      <td>10</td>\n",
              "      <td>7</td>\n",
              "      <td>C</td>\n",
              "      <td>480</td>\n",
              "    </tr>\n",
              "    <tr>\n",
              "      <th>7</th>\n",
              "      <td>8</td>\n",
              "      <td>800</td>\n",
              "      <td>12</td>\n",
              "      <td>50</td>\n",
              "      <td>A</td>\n",
              "      <td>600</td>\n",
              "    </tr>\n",
              "    <tr>\n",
              "      <th>8</th>\n",
              "      <td>9</td>\n",
              "      <td>920</td>\n",
              "      <td>14</td>\n",
              "      <td>8</td>\n",
              "      <td>C</td>\n",
              "      <td>570</td>\n",
              "    </tr>\n",
              "    <tr>\n",
              "      <th>9</th>\n",
              "      <td>10</td>\n",
              "      <td>1000</td>\n",
              "      <td>9</td>\n",
              "      <td>24</td>\n",
              "      <td>B</td>\n",
              "      <td>620</td>\n",
              "    </tr>\n",
              "  </tbody>\n",
              "</table>\n",
              "</div>\n",
              "      <button class=\"colab-df-convert\" onclick=\"convertToInteractive('df-e7719d23-761e-45e6-9a43-6ae96cec315a')\"\n",
              "              title=\"Convert this dataframe to an interactive table.\"\n",
              "              style=\"display:none;\">\n",
              "        \n",
              "  <svg xmlns=\"http://www.w3.org/2000/svg\" height=\"24px\"viewBox=\"0 0 24 24\"\n",
              "       width=\"24px\">\n",
              "    <path d=\"M0 0h24v24H0V0z\" fill=\"none\"/>\n",
              "    <path d=\"M18.56 5.44l.94 2.06.94-2.06 2.06-.94-2.06-.94-.94-2.06-.94 2.06-2.06.94zm-11 1L8.5 8.5l.94-2.06 2.06-.94-2.06-.94L8.5 2.5l-.94 2.06-2.06.94zm10 10l.94 2.06.94-2.06 2.06-.94-2.06-.94-.94-2.06-.94 2.06-2.06.94z\"/><path d=\"M17.41 7.96l-1.37-1.37c-.4-.4-.92-.59-1.43-.59-.52 0-1.04.2-1.43.59L10.3 9.45l-7.72 7.72c-.78.78-.78 2.05 0 2.83L4 21.41c.39.39.9.59 1.41.59.51 0 1.02-.2 1.41-.59l7.78-7.78 2.81-2.81c.8-.78.8-2.07 0-2.86zM5.41 20L4 18.59l7.72-7.72 1.47 1.35L5.41 20z\"/>\n",
              "  </svg>\n",
              "      </button>\n",
              "      \n",
              "  <style>\n",
              "    .colab-df-container {\n",
              "      display:flex;\n",
              "      flex-wrap:wrap;\n",
              "      gap: 12px;\n",
              "    }\n",
              "\n",
              "    .colab-df-convert {\n",
              "      background-color: #E8F0FE;\n",
              "      border: none;\n",
              "      border-radius: 50%;\n",
              "      cursor: pointer;\n",
              "      display: none;\n",
              "      fill: #1967D2;\n",
              "      height: 32px;\n",
              "      padding: 0 0 0 0;\n",
              "      width: 32px;\n",
              "    }\n",
              "\n",
              "    .colab-df-convert:hover {\n",
              "      background-color: #E2EBFA;\n",
              "      box-shadow: 0px 1px 2px rgba(60, 64, 67, 0.3), 0px 1px 3px 1px rgba(60, 64, 67, 0.15);\n",
              "      fill: #174EA6;\n",
              "    }\n",
              "\n",
              "    [theme=dark] .colab-df-convert {\n",
              "      background-color: #3B4455;\n",
              "      fill: #D2E3FC;\n",
              "    }\n",
              "\n",
              "    [theme=dark] .colab-df-convert:hover {\n",
              "      background-color: #434B5C;\n",
              "      box-shadow: 0px 1px 3px 1px rgba(0, 0, 0, 0.15);\n",
              "      filter: drop-shadow(0px 1px 2px rgba(0, 0, 0, 0.3));\n",
              "      fill: #FFFFFF;\n",
              "    }\n",
              "  </style>\n",
              "\n",
              "      <script>\n",
              "        const buttonEl =\n",
              "          document.querySelector('#df-e7719d23-761e-45e6-9a43-6ae96cec315a button.colab-df-convert');\n",
              "        buttonEl.style.display =\n",
              "          google.colab.kernel.accessAllowed ? 'block' : 'none';\n",
              "\n",
              "        async function convertToInteractive(key) {\n",
              "          const element = document.querySelector('#df-e7719d23-761e-45e6-9a43-6ae96cec315a');\n",
              "          const dataTable =\n",
              "            await google.colab.kernel.invokeFunction('convertToInteractive',\n",
              "                                                     [key], {});\n",
              "          if (!dataTable) return;\n",
              "\n",
              "          const docLinkHtml = 'Like what you see? Visit the ' +\n",
              "            '<a target=\"_blank\" href=https://colab.research.google.com/notebooks/data_table.ipynb>data table notebook</a>'\n",
              "            + ' to learn more about interactive tables.';\n",
              "          element.innerHTML = '';\n",
              "          dataTable['output_type'] = 'display_data';\n",
              "          await google.colab.output.renderOutput(dataTable, element);\n",
              "          const docLink = document.createElement('div');\n",
              "          docLink.innerHTML = docLinkHtml;\n",
              "          element.appendChild(docLink);\n",
              "        }\n",
              "      </script>\n",
              "    </div>\n",
              "  </div>\n",
              "  "
            ]
          },
          "metadata": {},
          "execution_count": 3
        }
      ],
      "source": [
        "import pandas as pd\n",
        "import matplotlib.pyplot as plt\n",
        "\n",
        "data = pd.read_csv('https://raw.githubusercontent.com/imamkoo/TK1-Data_Science/main/TK1.csv')\n",
        "data"
      ]
    },
    {
      "cell_type": "markdown",
      "source": [],
      "metadata": {
        "id": "L-RPh01rrhzP"
      },
      "id": "L-RPh01rrhzP"
    },
    {
      "cell_type": "code",
      "source": [
        "plt.plot(data.Ukuran, data.hargaSewa)\n",
        "plt.title(\"Hubungan Antara Ukuran dan Harga Sewa\")\n",
        "plt.xlabel(\"Ukuran\")\n",
        "plt.ylabel(\"Harga Sewa\")\n",
        "plt.show()"
      ],
      "metadata": {
        "id": "mLPpiXV6qYIr",
        "outputId": "6b582b84-4bbb-42e1-a8f0-23e75e92721e",
        "colab": {
          "base_uri": "https://localhost:8080/",
          "height": 295
        }
      },
      "id": "mLPpiXV6qYIr",
      "execution_count": 11,
      "outputs": [
        {
          "output_type": "display_data",
          "data": {
            "text/plain": [
              "<Figure size 432x288 with 1 Axes>"
            ],
            "image/png": "[encoded data removed]"
          },
          "metadata": {
            "needs_background": "light"
          }
        }
      ]
    },
    {
      "cell_type": "code",
      "source": [
        "plt.bar(range(len(data.tipeBangunan)),data.tarifInternet)\n",
        "plt.title(\"Hubungan Antara Tarif Internet dan Tipe Bangunan\")\n",
        "plt.xlabel(\"Tipe Bangunan\")\n",
        "plt.ylabel('Tarif Internet (MbPS)')\n",
        "plt.show()"
      ],
      "metadata": {
        "id": "n-dUNZaFt-w1",
        "outputId": "87c3157d-b6ae-495e-a753-0c32eeb573fb",
        "colab": {
          "base_uri": "https://localhost:8080/",
          "height": 295
        }
      },
      "id": "n-dUNZaFt-w1",
      "execution_count": 17,
      "outputs": [
        {
          "output_type": "display_data",
          "data": {
            "text/plain": [
              "<Figure size 432x288 with 1 Axes>"
            ],
            "image/png": "[encoded data removed]"
          },
          "metadata": {
            "needs_background": "light"
          }
        }
      ]
    },
    {
      "cell_type": "code",
      "source": [
        "bangunan_A = data.loc[data['tipeBangunan'] == \"A\"]\n",
        "bangunan_B = data.loc[data['tipeBangunan'] == \"B\"]\n",
        "bangunan_C = data.loc[data['tipeBangunan'] == \"C\"]"
      ],
      "metadata": {
        "id": "Ue0asb_IrU6S"
      },
      "id": "Ue0asb_IrU6S",
      "execution_count": 12,
      "outputs": []
    },
    {
      "cell_type": "code",
      "source": [
        "plt.plot(bangunan_A.hargaSewa)\n",
        "plt.plot(bangunan_B.hargaSewa)\n",
        "plt.plot(bangunan_C.hargaSewa)\n",
        "plt.title(\"Hubungan Antara Harga Sewa dan Setiap Tipe Bangunan\")\n",
        "plt.ylabel(\"Harga Sewa\")\n",
        "plt.legend([\"A\", \"B\", \"C\"])\n",
        "plt.show()"
      ],
      "metadata": {
        "id": "QVGgf1kprZSN",
        "outputId": "bf278da6-68c9-438b-f276-1dd793868b0f",
        "colab": {
          "base_uri": "https://localhost:8080/",
          "height": 281
        }
      },
      "id": "QVGgf1kprZSN",
      "execution_count": 19,
      "outputs": [
        {
          "output_type": "display_data",
          "data": {
            "text/plain": [
              "<Figure size 432x288 with 1 Axes>"
            ],
            "image/png": "[encoded data removed]"
          },
          "metadata": {
            "needs_background": "light"
          }
        }
      ]
    }
  ],
  "metadata": {
    "kernelspec": {
      "display_name": "Python 3 (ipykernel)",
      "language": "python",
      "name": "python3"
    },
    "language_info": {
      "codemirror_mode": {
        "name": "ipython",
        "version": 3
      },
      "file_extension": ".py",
      "mimetype": "text/x-python",
      "name": "python",
      "nbconvert_exporter": "python",
      "pygments_lexer": "ipython3",
      "version": "3.9.13"
    },
    "colab": {
      "provenance": []
    }
  },
  "nbformat": 4,
  "nbformat_minor": 5
}